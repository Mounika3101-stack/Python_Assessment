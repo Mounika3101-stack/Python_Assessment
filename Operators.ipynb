{
 "cells": [
  {
   "cell_type": "code",
   "execution_count": 3,
   "id": "5cee520e-b0b0-4359-9220-f003d8a7493c",
   "metadata": {},
   "outputs": [
    {
     "name": "stdout",
     "output_type": "stream",
     "text": [
      "Addition: 15\n",
      "Subtraction: 5\n",
      "Multiplication: 50\n",
      "Division: 2.0\n"
     ]
    }
   ],
   "source": [
    "#python Operators\n",
    "#program-1 for creating a function for operators\n",
    "def arithmetic_operations(a, b):\n",
    "    add = a + b\n",
    "    sub = a - b\n",
    "    multi = a * b\n",
    "    divi = a / b if b != 0 else \"Undefined (division by zero)\"\n",
    "\n",
    "    return add, sub, multi, divi\n",
    "# Example \n",
    "a = 10\n",
    "b = 5\n",
    "results = arithmetic_operations(a, b)\n",
    "\n",
    "print(f\"Addition: {results[0]}\")\n",
    "print(f\"Subtraction: {results[1]}\")\n",
    "print(f\"Multiplication: {results[2]}\")\n",
    "print(f\"Division: {results[3]}\")"
   ]
  },
  {
   "cell_type": "code",
   "execution_count": 5,
   "id": "a43985ae-0c7d-4fef-b476-3add71661232",
   "metadata": {},
   "outputs": [
    {
     "name": "stdout",
     "output_type": "stream",
     "text": [
      "Original value: 25\n",
      "After incre: 26\n",
      "After decre: 25\n"
     ]
    }
   ],
   "source": [
    "#program-2\n",
    "#program for inc/dec operators\n",
    "def incre_decre(value):\n",
    "    print(f\"Original value: {value}\")\n",
    "\n",
    "    # Incrementing \n",
    "    value += 1\n",
    "    print(f\"After incre: {value}\")\n",
    "\n",
    "    # Decrementing \n",
    "    value -= 1\n",
    "    print(f\"After decre: {value}\")\n",
    "\n",
    "# Example \n",
    "M = 25\n",
    "incre_decre(M)"
   ]
  },
  {
   "cell_type": "code",
   "execution_count": 7,
   "id": "e3b11a53-8a72-435d-a246-2898310bfdcc",
   "metadata": {},
   "outputs": [
    {
     "name": "stdin",
     "output_type": "stream",
     "text": [
      "Enter value:  20\n",
      "Enter value:  20\n"
     ]
    },
    {
     "name": "stdout",
     "output_type": "stream",
     "text": [
      "The 2 numbers are equal.\n"
     ]
    }
   ],
   "source": [
    "#program-3\n",
    "#program to find 2 numbers are equal or not\n",
    "A = float(input(\"Enter value: \"))\n",
    "B = float(input(\"Enter value: \"))\n",
    "\n",
    "# Check if the numbers are equal\n",
    "if A == B:\n",
    "    print(\"The 2 numbers are equal.\")\n",
    "else:\n",
    "    print(\"The 2 numbers are not equal.\")"
   ]
  },
  {
   "cell_type": "code",
   "execution_count": 9,
   "id": "692a8a5f-8e4a-473c-a8e7-e982feb3a54f",
   "metadata": {},
   "outputs": [
    {
     "name": "stdin",
     "output_type": "stream",
     "text": [
      "Enter value:  19\n",
      "Enter value:  15\n"
     ]
    },
    {
     "name": "stdout",
     "output_type": "stream",
     "text": [
      "19.0 < 15.0: False\n",
      "19.0 <= 15.0: False\n",
      "19.0 > 15.0: True\n",
      "19.0 >= 15.0: True\n"
     ]
    }
   ],
   "source": [
    "#program-4\n",
    "#program for relational operators\n",
    "# Taking input from the user\n",
    "A = float(input(\"Enter value: \"))\n",
    "B = float(input(\"Enter value: \"))\n",
    "\n",
    "# Using relational operators\n",
    "print(f\"{A} < {B}: {A < B}\")   \n",
    "print(f\"{A} <= {B}: {A <= B}\") \n",
    "print(f\"{A} > {B}: {A > B}\")   \n",
    "print(f\"{A} >= {B}: {A >= B}\") "
   ]
  },
  {
   "cell_type": "code",
   "execution_count": 15,
   "id": "dbda35e3-88f6-4456-ac82-1f54e3aa3311",
   "metadata": {},
   "outputs": [
    {
     "name": "stdin",
     "output_type": "stream",
     "text": [
      " 5\n",
      " 4\n"
     ]
    },
    {
     "name": "stdout",
     "output_type": "stream",
     "text": [
      "The smaller number : 4\n",
      "The larger number : 5\n"
     ]
    }
   ],
   "source": [
    "#program-5\n",
    "#print smaller & Larger numbers\n",
    "A = int(input())\n",
    "B = int(input())\n",
    "if A < B:\n",
    "    print(f\"The smaller number : {A}\")\n",
    "    print(f\"The larger number : {B}\")\n",
    "elif A > B:\n",
    "    print(f\"The smaller number : {B}\")\n",
    "    print(f\"The larger number : {A}\")\n",
    "else:\n",
    "    print(\"Both are equal.\")"
   ]
  },
  {
   "cell_type": "code",
   "execution_count": null,
   "id": "c3b4bd0a-863f-40f7-a13b-8ff87558acff",
   "metadata": {},
   "outputs": [],
   "source": []
  }
 ],
 "metadata": {
  "kernelspec": {
   "display_name": "Python 3 (ipykernel)",
   "language": "python",
   "name": "python3"
  },
  "language_info": {
   "codemirror_mode": {
    "name": "ipython",
    "version": 3
   },
   "file_extension": ".py",
   "mimetype": "text/x-python",
   "name": "python",
   "nbconvert_exporter": "python",
   "pygments_lexer": "ipython3",
   "version": "3.12.4"
  }
 },
 "nbformat": 4,
 "nbformat_minor": 5
}
