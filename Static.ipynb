{
 "cells": [
  {
   "cell_type": "code",
   "execution_count": 3,
   "id": "5587550a-88e2-43ca-8560-c6a7b84d5624",
   "metadata": {},
   "outputs": [
    {
     "name": "stdout",
     "output_type": "stream",
     "text": [
      "Accessing static variable: 100\n",
      "Accessing static variable through instance: 100\n",
      "Accessing static variable using class method: 100\n"
     ]
    }
   ],
   "source": [
    "#static\n",
    "#program-1 Define a static variable and access that through a class  code \n",
    "class Example:\n",
    "    static_var = 100  \n",
    "\n",
    "    def __init__(self, value):\n",
    "        self.instance_var = value  \n",
    "\n",
    "    @classmethod\n",
    "    def access_static(cls):\n",
    "        return cls.static_var  \n",
    "print(f\"Accessing static variable: {Example.static_var}\")\n",
    "obj1 = Example(50)\n",
    "print(f\"Accessing static variable through instance: {obj1.static_var}\")\n",
    "print(f\"Accessing static variable using class method: {Example.access_static()}\")\n"
   ]
  },
  {
   "cell_type": "code",
   "execution_count": 5,
   "id": "4686d417-a3d7-442a-91ae-f794a0a81e39",
   "metadata": {},
   "outputs": [
    {
     "name": "stdout",
     "output_type": "stream",
     "text": [
      "Accessing static variable through instance: 100\n"
     ]
    }
   ],
   "source": [
    "#program-2\n",
    "#static variable and access that through a instance code without predefined functions using\n",
    "class Example:\n",
    "    static_var = 100  \n",
    "\n",
    "    def __init__(self, value):\n",
    "        self.instance_var = value \n",
    "\n",
    "    def access_static_through_instance(self):\n",
    "        return Example.static_var  \n",
    "obj1 = Example(50)\n",
    "print(f\"Accessing static variable through instance: {obj1.access_static_through_instance()}\")\n"
   ]
  },
  {
   "cell_type": "code",
   "execution_count": 7,
   "id": "3f5ce98a-b1cf-499b-8803-79b386c0a6e7",
   "metadata": {},
   "outputs": [
    {
     "name": "stdout",
     "output_type": "stream",
     "text": [
      "Static variable after modification: 200\n",
      "Accessing static variable through obj1: 200\n",
      "Accessing static variable through obj2: 200\n"
     ]
    }
   ],
   "source": [
    "#program-3\n",
    "#Define a static variable and change within the instance\n",
    "class Example:\n",
    "    static_var = 100  # Static (class) variable\n",
    "\n",
    "    def __init__(self, value):\n",
    "        self.instance_var = value  \n",
    "\n",
    "    def modify_static(self, new_value):\n",
    "        Example.static_var = new_value  \n",
    "obj1 = Example(50)\n",
    "obj1.modify_static(200)\n",
    "obj2 = Example(30)\n",
    "print(f\"Static variable after modification: {Example.static_var}\")  \n",
    "print(f\"Accessing static variable through obj1: {obj1.static_var}\") \n",
    "print(f\"Accessing static variable through obj2: {obj2.static_var}\")  "
   ]
  },
  {
   "cell_type": "code",
   "execution_count": 9,
   "id": "dc8d9685-d1c7-4fcd-9a3e-439cd252f5c5",
   "metadata": {},
   "outputs": [
    {
     "name": "stdout",
     "output_type": "stream",
     "text": [
      "Static variable before modification: 100\n",
      "Static variable after modification: 200\n"
     ]
    }
   ],
   "source": [
    "#program-4\n",
    "#static variable and change in class\n",
    "class Example:\n",
    "    static_var = 100  \n",
    "\n",
    "    @staticmethod\n",
    "    def modify_static(new_value):\n",
    "        Example.static_var = new_value  \n",
    "print(f\"Static variable before modification: {Example.static_var}\")\n",
    "Example.modify_static(200)\n",
    "print(f\"Static variable after modification: {Example.static_var}\")\n",
    "\n"
   ]
  },
  {
   "cell_type": "code",
   "execution_count": null,
   "id": "187347e3-842a-486d-9e2d-66ea106d4a21",
   "metadata": {},
   "outputs": [],
   "source": []
  }
 ],
 "metadata": {
  "kernelspec": {
   "display_name": "Python 3 (ipykernel)",
   "language": "python",
   "name": "python3"
  },
  "language_info": {
   "codemirror_mode": {
    "name": "ipython",
    "version": 3
   },
   "file_extension": ".py",
   "mimetype": "text/x-python",
   "name": "python",
   "nbconvert_exporter": "python",
   "pygments_lexer": "ipython3",
   "version": "3.12.4"
  }
 },
 "nbformat": 4,
 "nbformat_minor": 5
}
