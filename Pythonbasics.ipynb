{
 "cells": [
  {
   "cell_type": "code",
   "execution_count": 1,
   "id": "de639dfb-05d8-4d02-ba39-9b2322b0367d",
   "metadata": {},
   "outputs": [
    {
     "name": "stdout",
     "output_type": "stream",
     "text": [
      "MOUNIKA\n"
     ]
    }
   ],
   "source": [
    "#Program-1\n",
    "#Print your name\n",
    "print(\"MOUNIKA\")"
   ]
  },
  {
   "cell_type": "code",
   "execution_count": 3,
   "id": "fb72946c-8fea-4b3c-94a2-30823c8122b6",
   "metadata": {},
   "outputs": [
    {
     "name": "stdout",
     "output_type": "stream",
     "text": [
      "Single-line comment\n",
      "Python Comments Example\n"
     ]
    }
   ],
   "source": [
    "#program-2\n",
    "#program for singleline comment and multiline comment\n",
    "print(\"Single-line comment\")  # This is a single-line comment\n",
    "\n",
    "\"\"\"\n",
    "This is a multi-line comment\n",
    "You can write multiple lines here\n",
    "\"\"\"\n",
    "\n",
    "'''\n",
    "Another way to write multi-line comments\n",
    "Using triple single quotes\n",
    "'''\n",
    "\n",
    "print(\"Python Comments Example\")\n"
   ]
  },
  {
   "cell_type": "code",
   "execution_count": 11,
   "id": "0dcd082d-ed37-4ba9-b4ff-98250ab6d9a4",
   "metadata": {},
   "outputs": [
    {
     "name": "stdout",
     "output_type": "stream",
     "text": [
      "Integer value: 45\n",
      "Boolean value: True\n",
      "Char value: M\n",
      "Float value: 3.14\n",
      "Double value: 45.45\n"
     ]
    }
   ],
   "source": [
    "#program-3\n",
    "#program for variables for different data types\n",
    "# Define variables\n",
    "# Define variables\n",
    "m_int = 45\n",
    "m_boolean = True\n",
    "m_char = 'M'  # Note: Python doesn't have a specific char type; it uses strings of length 1\n",
    "m_float = 3.14\n",
    "m_double = 45.45  # Note: Python uses the same float type for both single and double precision\n",
    "\n",
    "# Print variables to the console\n",
    "print(\"Integer value:\", m_int)\n",
    "print(\"Boolean value:\", m_boolean)\n",
    "print(\"Char value:\", m_char)\n",
    "print(\"Float value:\", m_float)\n",
    "print(\"Double value:\", m_double)"
   ]
  },
  {
   "cell_type": "code",
   "execution_count": 13,
   "id": "7ec07389-113f-43cd-a2c6-f0d5c6bb121c",
   "metadata": {},
   "outputs": [
    {
     "name": "stdout",
     "output_type": "stream",
     "text": [
      "Inside function: Local Variable\n",
      "Outside function: Global Variable\n"
     ]
    }
   ],
   "source": [
    "#program-4\n",
    "#program for local & Global variables\n",
    "# Global variable\n",
    "var = \"Global Variable\"\n",
    "\n",
    "def my_function():\n",
    "    # Local variable with the same name\n",
    "    var = \"Local Variable\"\n",
    "    print(\"Inside function:\", var)\n",
    "\n",
    "my_function()\n",
    "print(\"Outside function:\", var)"
   ]
  },
  {
   "cell_type": "code",
   "execution_count": null,
   "id": "3a06a98d-bd51-4c83-a00c-b687d3c07489",
   "metadata": {},
   "outputs": [],
   "source": []
  }
 ],
 "metadata": {
  "kernelspec": {
   "display_name": "Python 3 (ipykernel)",
   "language": "python",
   "name": "python3"
  },
  "language_info": {
   "codemirror_mode": {
    "name": "ipython",
    "version": 3
   },
   "file_extension": ".py",
   "mimetype": "text/x-python",
   "name": "python",
   "nbconvert_exporter": "python",
   "pygments_lexer": "ipython3",
   "version": "3.12.4"
  }
 },
 "nbformat": 4,
 "nbformat_minor": 5
}
