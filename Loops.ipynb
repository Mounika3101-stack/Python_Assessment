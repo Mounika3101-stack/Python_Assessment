{
 "cells": [
  {
   "cell_type": "code",
   "execution_count": 1,
   "id": "484f9f48-c5cc-4987-ad9a-afea1c98f6e7",
   "metadata": {},
   "outputs": [
    {
     "name": "stdout",
     "output_type": "stream",
     "text": [
      "Bright IT career\n",
      "Bright IT career\n",
      "Bright IT career\n",
      "Bright IT career\n",
      "Bright IT career\n",
      "Bright IT career\n",
      "Bright IT career\n",
      "Bright IT career\n",
      "Bright IT career\n",
      "Bright IT career\n"
     ]
    }
   ],
   "source": [
    "#loops\n",
    "#program-1 print \"Bright IT career 10 times\n",
    "for i in range(10):\n",
    "    print(\"Bright IT career\")"
   ]
  },
  {
   "cell_type": "code",
   "execution_count": 3,
   "id": "2b363026-8c79-4634-8e5d-263f93cc2103",
   "metadata": {},
   "outputs": [
    {
     "name": "stdout",
     "output_type": "stream",
     "text": [
      "1\n",
      "2\n",
      "3\n",
      "4\n",
      "5\n",
      "6\n",
      "7\n",
      "8\n",
      "9\n",
      "10\n",
      "11\n",
      "12\n",
      "13\n",
      "14\n",
      "15\n",
      "16\n",
      "17\n",
      "18\n",
      "19\n",
      "20\n"
     ]
    }
   ],
   "source": [
    "#program-2\n",
    "#print 1 to 20 numbers using while loop\n",
    "num = 1\n",
    "while num <= 20:\n",
    "    print(num)\n",
    "    num += 1  "
   ]
  },
  {
   "cell_type": "code",
   "execution_count": 5,
   "id": "69a7cd46-a116-4006-a4bd-97d8748cb71c",
   "metadata": {},
   "outputs": [
    {
     "name": "stdin",
     "output_type": "stream",
     "text": [
      "Enter A:  24\n",
      "Enter B:  18\n"
     ]
    },
    {
     "name": "stdout",
     "output_type": "stream",
     "text": [
      "24 is not equal to 18\n",
      "24 is not equal to 18\n"
     ]
    }
   ],
   "source": [
    "#program-3\n",
    "#program for equal or not operators\n",
    "# Taking two numbers as input from the user\n",
    "A = int(input(\"Enter A: \"))\n",
    "B = int(input(\"Enter B: \"))\n",
    "if A == B:\n",
    "    print(f\"{A} is equal to {B}\")\n",
    "else:\n",
    "    print(f\"{A} is not equal to {B}\")\n",
    "if A != B:\n",
    "    print(f\"{A} is not equal to {B}\")\n",
    "else:\n",
    "    print(f\"{A} is equal to {B}\")"
   ]
  },
  {
   "cell_type": "code",
   "execution_count": 7,
   "id": "d2294d33-b2fd-41b1-950e-74d3f39d3b62",
   "metadata": {},
   "outputs": [
    {
     "name": "stdout",
     "output_type": "stream",
     "text": [
      "1 is Odd\n",
      "2 is Even\n",
      "3 is Odd\n",
      "4 is Even\n",
      "5 is Odd\n",
      "6 is Even\n",
      "7 is Odd\n",
      "8 is Even\n",
      "9 is Odd\n",
      "10 is Even\n",
      "11 is Odd\n",
      "12 is Even\n",
      "13 is Odd\n",
      "14 is Even\n",
      "15 is Odd\n",
      "16 is Even\n",
      "17 is Odd\n",
      "18 is Even\n",
      "19 is Odd\n",
      "20 is Even\n"
     ]
    }
   ],
   "source": [
    "#PROGRAM-4\n",
    "#print odd and even numbers\n",
    "for num in range(1, 21):\n",
    "    if num % 2 == 0:\n",
    "        print(f\"{num} is Even\")\n",
    "    else:\n",
    "        print(f\"{num} is Odd\")"
   ]
  },
  {
   "cell_type": "code",
   "execution_count": 9,
   "id": "89e07426-ff25-4724-a7ed-75b754494188",
   "metadata": {},
   "outputs": [
    {
     "name": "stdin",
     "output_type": "stream",
     "text": [
      "Enter 1st number:  7\n",
      "Enter 2nd number:  5\n",
      "Enter 3rd number:  9\n"
     ]
    },
    {
     "name": "stdout",
     "output_type": "stream",
     "text": [
      "The large number is: 9\n"
     ]
    }
   ],
   "source": [
    "#program-5\n",
    "#program to print largest number among 3 numbers\n",
    "def find_large(a, b, c):\n",
    "    if a >= b and a >= c:\n",
    "        large = a\n",
    "    elif b >= a and b >= c:\n",
    "        large = b\n",
    "    else:\n",
    "        large = c\n",
    "    return large\n",
    "\n",
    "# Example \n",
    "n1 = int(input(\"Enter 1st number: \"))\n",
    "n2 = int(input(\"Enter 2nd number: \"))\n",
    "n3 = int(input(\"Enter 3rd number: \"))\n",
    "\n",
    "large_number = find_large(n1, n2, n3)\n",
    "print(f\"The large number is: {large_number}\")"
   ]
  },
  {
   "cell_type": "code",
   "execution_count": 11,
   "id": "56b2f302-3d67-454b-9b23-95dab4161c95",
   "metadata": {},
   "outputs": [
    {
     "name": "stdout",
     "output_type": "stream",
     "text": [
      "10\n",
      "12\n",
      "14\n",
      "16\n",
      "18\n",
      "20\n"
     ]
    }
   ],
   "source": [
    "#program-6\n",
    "#program to print even number between 10 and 20 using while\n",
    "n = 10  \n",
    "\n",
    "while n <= 20: \n",
    "    if n % 2 == 0:  \n",
    "        print(n)\n",
    "    n += 1  "
   ]
  },
  {
   "cell_type": "code",
   "execution_count": 16,
   "id": "78eeae3b-c1d7-410c-b0da-dbe06a943578",
   "metadata": {},
   "outputs": [
    {
     "name": "stdout",
     "output_type": "stream",
     "text": [
      "1\n",
      "2\n",
      "3\n",
      "4\n",
      "5\n",
      "6\n",
      "7\n",
      "8\n",
      "9\n",
      "10\n"
     ]
    }
   ],
   "source": [
    "#program-7\n",
    "#o print 1 to 10 using the do-while loop statement.\n",
    "n = 1  \n",
    "while True:  \n",
    "    print(n)\n",
    "    n += 1\n",
    "    if n > 10:  \n",
    "        break"
   ]
  },
  {
   "cell_type": "code",
   "execution_count": 18,
   "id": "46c9cf2c-8df6-4663-9f66-1a5cace88026",
   "metadata": {},
   "outputs": [
    {
     "name": "stdin",
     "output_type": "stream",
     "text": [
      " 356\n"
     ]
    },
    {
     "name": "stdout",
     "output_type": "stream",
     "text": [
      "356 is not an Armstrong number.\n"
     ]
    }
   ],
   "source": [
    "#program-8\n",
    "#program to find Armstrong number or not\n",
    "def is_armstrong(n):\n",
    "    n_str = str(n)\n",
    "    n_digits = len(n_str)\n",
    "    sum_of_powers = sum(int(digit) ** n_digits for digit in n_str)\n",
    "    \n",
    "    return sum_of_powers == n\n",
    "number = int(input())\n",
    "\n",
    "if is_armstrong(number):\n",
    "    print(f\"{number} is an Armstrong number.\")\n",
    "else:\n",
    "    print(f\"{number} is not an Armstrong number.\")"
   ]
  },
  {
   "cell_type": "code",
   "execution_count": 20,
   "id": "b9e276c4-e0b2-4961-8c1b-2c5505e3e893",
   "metadata": {},
   "outputs": [
    {
     "name": "stdin",
     "output_type": "stream",
     "text": [
      " 67\n"
     ]
    },
    {
     "name": "stdout",
     "output_type": "stream",
     "text": [
      "67 is a Prime number.\n"
     ]
    }
   ],
   "source": [
    "#program-9\n",
    "#find prime or not program\n",
    "\n",
    "def is_prime(n):\n",
    "    if n <= 1:\n",
    "        return False  \n",
    "    for i in range(2, int(n ** 0.5) + 1):  \n",
    "        if n % i == 0:\n",
    "            return False \n",
    "    return True  \n",
    "num = int(input())\n",
    "\n",
    "# Check if the number is prime\n",
    "if is_prime(num):\n",
    "    print(f\"{num} is a Prime number.\")\n",
    "else:\n",
    "    print(f\"{num} is Not a Prime number.\")"
   ]
  },
  {
   "cell_type": "code",
   "execution_count": 22,
   "id": "61ce8ca6-6e8c-427c-b37a-5fd7257e2f3f",
   "metadata": {},
   "outputs": [
    {
     "name": "stdin",
     "output_type": "stream",
     "text": [
      " dad\n"
     ]
    },
    {
     "name": "stdout",
     "output_type": "stream",
     "text": [
      "dad is a Palindrome.\n"
     ]
    }
   ],
   "source": [
    "#program-10\n",
    "# Function to check if a string or number is palindrome\n",
    "def is_palindrome(value):\n",
    "    value = str(value)  \n",
    "    return value == value[::-1]  \n",
    "\n",
    "\n",
    "N = input()\n",
    "if is_palindrome(N):\n",
    "    print(f\"{N} is a Palindrome.\")\n",
    "else:\n",
    "    print(f\"{N} is Not a Palindrome.\")"
   ]
  },
  {
   "cell_type": "code",
   "execution_count": 24,
   "id": "9ccd4f00-2a3a-45f1-85c1-5a7cd0b6074e",
   "metadata": {},
   "outputs": [
    {
     "name": "stdin",
     "output_type": "stream",
     "text": [
      " 45\n"
     ]
    },
    {
     "name": "stdout",
     "output_type": "stream",
     "text": [
      "45 is Odd.\n"
     ]
    }
   ],
   "source": [
    "#program-11\n",
    "#number is even or odd using switch\n",
    "def check_even_odd(n):\n",
    "    switch = {\n",
    "        0: \"Even\",  \n",
    "        1: \"Odd\"    \n",
    "    }\n",
    "    return switch[n % 2]  \n",
    "n = int(input())\n",
    "print(f\"{n} is {check_even_odd(n)}.\")"
   ]
  },
  {
   "cell_type": "code",
   "execution_count": 26,
   "id": "dd54325f-771f-4372-bfc7-7f0975d61f16",
   "metadata": {},
   "outputs": [
    {
     "name": "stdin",
     "output_type": "stream",
     "text": [
      "Enter M or F:  m\n"
     ]
    },
    {
     "name": "stdout",
     "output_type": "stream",
     "text": [
      "Gender: Male\n"
     ]
    }
   ],
   "source": [
    "#program-12\n",
    "#print gender\n",
    "def get_gender(gender):\n",
    "    switch = {\n",
    "        'M': \"Male\",\n",
    "        'F': \"Female\"\n",
    "    }\n",
    "    return switch.get(gender.upper(), \"Invalid input\")  \n",
    "\n",
    "\n",
    "gender = input(\"Enter M or F: \")\n",
    "print(f\"Gender: {get_gender(gender)}\")"
   ]
  },
  {
   "cell_type": "code",
   "execution_count": null,
   "id": "52583e69-ee11-42ce-ad75-f573be89d62f",
   "metadata": {},
   "outputs": [],
   "source": []
  }
 ],
 "metadata": {
  "kernelspec": {
   "display_name": "Python 3 (ipykernel)",
   "language": "python",
   "name": "python3"
  },
  "language_info": {
   "codemirror_mode": {
    "name": "ipython",
    "version": 3
   },
   "file_extension": ".py",
   "mimetype": "text/x-python",
   "name": "python",
   "nbconvert_exporter": "python",
   "pygments_lexer": "ipython3",
   "version": "3.12.4"
  }
 },
 "nbformat": 4,
 "nbformat_minor": 5
}
